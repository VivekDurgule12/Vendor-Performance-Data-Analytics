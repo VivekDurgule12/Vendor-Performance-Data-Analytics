{
 "cells": [
  {
   "cell_type": "code",
   "execution_count": 5,
   "id": "f9b0b793-684a-4775-8b82-c7d4447d16d4",
   "metadata": {},
   "outputs": [
    {
     "name": "stdout",
     "output_type": "stream",
     "text": [
      "Total tables (after skipping): 1\n",
      "Table names (after skipping):\n",
      "- vendor_sales_summary\n"
     ]
    }
   ],
   "source": [
    "import sqlite3\n",
    "import pandas as pd\n",
    "\n",
    "# connect to db\n",
    "conn = sqlite3.connect(\"inventory.db\")\n",
    "\n",
    "# get all table names\n",
    "tables = pd.read_sql_query(\"SELECT name FROM sqlite_master WHERE type='table';\", conn)\n",
    "\n",
    "# tables to skip\n",
    "skip_tables = [\n",
    "    \"begin_inventory\",\n",
    "    \"end_inventory\",\n",
    "    \"purchases\",\n",
    "    \"purchase_prices\",\n",
    "    \"sales\",\n",
    "    \"vendor_invoice\"\n",
    "]\n",
    "\n",
    "# filter tables\n",
    "filtered_tables = [t for t in tables['name'] if t not in skip_tables]\n",
    "\n",
    "# print number of tables after filtering\n",
    "print(\"Total tables (after skipping):\", len(filtered_tables))\n",
    "\n",
    "# print table names after filtering\n",
    "print(\"Table names (after skipping):\")\n",
    "for name in filtered_tables:\n",
    "    print(\"-\", name)\n",
    "\n",
    "conn.close()\n"
   ]
  },
  {
   "cell_type": "code",
   "execution_count": 7,
   "id": "1119374c-bc50-4ac2-a60a-139ccac0dc69",
   "metadata": {},
   "outputs": [
    {
     "name": "stdout",
     "output_type": "stream",
     "text": [
      "Total tables (after skipping): 1\n",
      "Exporting tables to CSV...\n",
      "Exported vendor_sales_summary.csv with 10692 rows\n"
     ]
    }
   ],
   "source": [
    "import sqlite3\n",
    "import pandas as pd\n",
    "\n",
    "# Connect to the database\n",
    "conn = sqlite3.connect(\"inventory.db\")\n",
    "\n",
    "# Get all table names\n",
    "tables = pd.read_sql_query(\"SELECT name FROM sqlite_master WHERE type='table';\", conn)\n",
    "\n",
    "# Tables to skip\n",
    "skip_tables = [\n",
    "    \"begin_inventory\",\n",
    "    \"end_inventory\",\n",
    "    \"purchases\",\n",
    "    \"purchase_prices\",\n",
    "    \"sales\",\n",
    "    \"vendor_invoice\"\n",
    "]\n",
    "\n",
    "# Filter and export remaining tables to CSV\n",
    "filtered_tables = [t for t in tables['name'] if t not in skip_tables]\n",
    "\n",
    "print(\"Total tables (after skipping):\", len(filtered_tables))\n",
    "print(\"Exporting tables to CSV...\")\n",
    "\n",
    "for table in filtered_tables:\n",
    "    df = pd.read_sql_query(f\"SELECT * FROM {table};\", conn)\n",
    "    df.to_csv(f\"{table}.csv\", index=False)\n",
    "    print(f\"Exported {table}.csv with {len(df)} rows\")\n",
    "\n",
    "conn.close()\n"
   ]
  },
  {
   "cell_type": "code",
   "execution_count": 10,
   "id": "94d63de1-7c03-438b-9652-9730df97c06c",
   "metadata": {},
   "outputs": [
    {
     "ename": "NameError",
     "evalue": "name 'top_vendors' is not defined",
     "output_type": "error",
     "traceback": [
      "\u001b[31m----------------------------------------------------------------\u001b[39m",
      "\u001b[31mNameError\u001b[39m                      Traceback (most recent call last)",
      "\u001b[36mCell\u001b[39m\u001b[36m \u001b[39m\u001b[32mIn[10]\u001b[39m\u001b[32m, line 3\u001b[39m\n\u001b[32m      1\u001b[39m \u001b[38;5;66;03m# Save DataFrames to CSV files\u001b[39;00m\n\u001b[32m      2\u001b[39m df.to_csv(\u001b[33m\"\u001b[39m\u001b[33mvendor_sales_summary_cleaned.csv\u001b[39m\u001b[33m\"\u001b[39m, index=\u001b[38;5;28;01mFalse\u001b[39;00m)\n\u001b[32m----> \u001b[39m\u001b[32m3\u001b[39m \u001b[43mtop_vendors\u001b[49m.to_csv(\u001b[33m\"\u001b[39m\u001b[33mtop_vendors.csv\u001b[39m\u001b[33m\"\u001b[39m, index=\u001b[38;5;28;01mFalse\u001b[39;00m)\n\u001b[32m      4\u001b[39m target_brands.to_csv(\u001b[33m\"\u001b[39m\u001b[33mtarget_brands.csv\u001b[39m\u001b[33m\"\u001b[39m, index=\u001b[38;5;28;01mFalse\u001b[39;00m)\n\u001b[32m      5\u001b[39m brand_performance.to_csv(\u001b[33m\"\u001b[39m\u001b[33mbrand_performance.csv\u001b[39m\u001b[33m\"\u001b[39m, index=\u001b[38;5;28;01mFalse\u001b[39;00m)\n",
      "\u001b[31mNameError\u001b[39m: name 'top_vendors' is not defined"
     ]
    }
   ],
   "source": [
    "# Save DataFrames to CSV files\n",
    "df.to_csv(\"vendor_sales_summary_cleaned.csv\", index=False)\n",
    "top_vendors.to_csv(\"top_vendors.csv\", index=False)\n",
    "target_brands.to_csv(\"target_brands.csv\", index=False)\n",
    "brand_performance.to_csv(\"brand_performance.csv\", index=False)\n"
   ]
  },
  {
   "cell_type": "code",
   "execution_count": 13,
   "id": "5f1cc486-cd59-4ac1-a896-d2b670162a21",
   "metadata": {},
   "outputs": [
    {
     "ename": "NameError",
     "evalue": "name 'top_vendors' is not defined",
     "output_type": "error",
     "traceback": [
      "\u001b[31m----------------------------------------------------------------\u001b[39m",
      "\u001b[31mNameError\u001b[39m                      Traceback (most recent call last)",
      "\u001b[36mCell\u001b[39m\u001b[36m \u001b[39m\u001b[32mIn[13]\u001b[39m\u001b[32m, line 1\u001b[39m\n\u001b[32m----> \u001b[39m\u001b[32m1\u001b[39m \u001b[43mtop_vendors\u001b[49m\n",
      "\u001b[31mNameError\u001b[39m: name 'top_vendors' is not defined"
     ]
    }
   ],
   "source": [
    "top_vendors"
   ]
  }
 ],
 "metadata": {
  "kernelspec": {
   "display_name": "Python 3 (ipykernel)",
   "language": "python",
   "name": "python3"
  },
  "language_info": {
   "codemirror_mode": {
    "name": "ipython",
    "version": 3
   },
   "file_extension": ".py",
   "mimetype": "text/x-python",
   "name": "python",
   "nbconvert_exporter": "python",
   "pygments_lexer": "ipython3",
   "version": "3.13.7"
  }
 },
 "nbformat": 4,
 "nbformat_minor": 5
}
